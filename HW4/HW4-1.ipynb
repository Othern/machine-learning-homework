{
 "cells": [
  {
   "cell_type": "code",
   "execution_count": 2,
   "metadata": {},
   "outputs": [],
   "source": [
    "import pandas as pd\n",
    "import numpy as np\n",
    "import sklearn\n",
    "from sklearn.linear_model import LogisticRegression\n",
    "from sklearn.preprocessing import LabelEncoder\n",
    "from sklearn.preprocessing import OneHotEncoder\n",
    "from sklearn.preprocessing import StandardScaler\n",
    "from sklearn.preprocessing import MinMaxScaler\n",
    "from sklearn.cluster import KMeans\n",
    "from sklearn.tree import DecisionTreeClassifier\n",
    "from sklearn.model_selection import train_test_split\n",
    "from sklearn.metrics import mean_squared_error"
   ]
  },
  {
   "cell_type": "markdown",
   "metadata": {},
   "source": [
    "### 讀入資料並判斷缺數值、非數字"
   ]
  },
  {
   "cell_type": "code",
   "execution_count": 10,
   "metadata": {},
   "outputs": [],
   "source": [
    "org_data = pd.read_csv('HW3_hr-analytics.csv')"
   ]
  },
  {
   "cell_type": "markdown",
   "metadata": {},
   "source": [
    " ### 前處理"
   ]
  },
  {
   "cell_type": "code",
   "execution_count": 11,
   "metadata": {},
   "outputs": [],
   "source": [
    "OH_data = org_data.copy()\n",
    "\n",
    "lin_i = [0,1,3]# 非離散型資料(col)\n",
    "\n",
    "for i,col in enumerate(OH_data.columns):\n",
    "    \n",
    "    #將非離散型性資料等距離散\n",
    "    if i == 0:\n",
    "        OH_data[col] = pd.qcut(OH_data[col].rank(method='first'),4,labels=[1,2,3,4])\n",
    "        matrix =np.array(OH_data[col])\n",
    "        matrix = matrix[:, np.newaxis]\n",
    "        continue\n",
    "    \n",
    "    #將非離散型性資料等距離散\n",
    "    elif i in lin_i:\n",
    "       OH_data[col] = pd.qcut(OH_data[col].rank(method='first'),4,labels=[1,2,3,4])\n",
    "       \n",
    "    #切割目標\n",
    "    elif col == 'left':\n",
    "        OH_temp = np.array(OH_data[col])\n",
    "        target = OH_temp[:,np.newaxis]\n",
    "        \n",
    "    #OnehotEncoding       \n",
    "    OH = OneHotEncoder()\n",
    "    OH_temp = np.array(OH_data[col])\n",
    "    OH_temp = OH_temp[:,np.newaxis]\n",
    "    OH.fit(OH_temp)\n",
    "    OH_temp = OH.transform(OH_temp).toarray()\n",
    "    matrix = np.hstack((matrix,OH_temp))\n",
    "\n",
    "#cut data     \n",
    "train_data, test_data ,train_target , test_target = train_test_split(matrix,target,test_size=0.3,random_state=2019)  "
   ]
  },
  {
   "cell_type": "markdown",
   "metadata": {},
   "source": [
    " ### 決策樹模型模型"
   ]
  },
  {
   "cell_type": "code",
   "execution_count": 12,
   "metadata": {},
   "outputs": [
    {
     "name": "stdout",
     "output_type": "stream",
     "text": [
      "accuracy : 4500/4500  100.00%\n"
     ]
    }
   ],
   "source": [
    "dec = DecisionTreeClassifier()\n",
    "dec.fit(train_data, train_target.ravel())\n",
    "test_pred = dec.predict(test_data)\n",
    "\n",
    "corr = np.sum(np.array(test_pred)[:, np.newaxis] == test_target)\n",
    "length = len(test_data)\n",
    "score = dec.score(test_data, test_target)*100\n",
    "\n",
    "#評分\n",
    "print(f'accuracy : {corr}/{length}  {score:.2f}%')\n"
   ]
  },
  {
   "cell_type": "markdown",
   "metadata": {},
   "source": [
    "### 神經網絡模型"
   ]
  },
  {
   "cell_type": "code",
   "execution_count": null,
   "metadata": {},
   "outputs": [],
   "source": []
  },
  {
   "cell_type": "markdown",
   "metadata": {},
   "source": [
    " # 總結:因為Logistic Regression 的特性，因此需要將資料離散化可以更好收斂，線性資料以等距切成4分，再將全部資料使用Onehotencoding編碼進行訓練"
   ]
  },
  {
   "cell_type": "markdown",
   "metadata": {},
   "source": []
  }
 ],
 "metadata": {
  "kernelspec": {
   "display_name": "Python 3.10.3 64-bit",
   "language": "python",
   "name": "python3"
  },
  "language_info": {
   "codemirror_mode": {
    "name": "ipython",
    "version": 3
   },
   "file_extension": ".py",
   "mimetype": "text/x-python",
   "name": "python",
   "nbconvert_exporter": "python",
   "pygments_lexer": "ipython3",
   "version": "3.10.3"
  },
  "orig_nbformat": 4,
  "vscode": {
   "interpreter": {
    "hash": "afb734500600fd355917ca529030176ea0ca205570884b88f2f6f7d791fd3fbe"
   }
  }
 },
 "nbformat": 4,
 "nbformat_minor": 2
}
