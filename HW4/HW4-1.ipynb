{
 "cells": [
  {
   "cell_type": "code",
   "execution_count": 1,
   "metadata": {},
   "outputs": [],
   "source": [
    "import pandas as pd\n",
    "import numpy as np\n",
    "import sklearn\n",
    "\n",
    "from sklearn.preprocessing import LabelEncoder\n",
    "from sklearn.preprocessing import OneHotEncoder\n",
    "from sklearn.preprocessing import StandardScaler\n",
    "from sklearn.preprocessing import MinMaxScaler\n",
    "\n",
    "from sklearn.linear_model import LogisticRegression\n",
    "from sklearn.neural_network import MLPClassifier\n",
    "from sklearn.tree import DecisionTreeClassifier\n",
    "\n",
    "from sklearn.model_selection import train_test_split\n",
    "from sklearn.metrics import mean_squared_error"
   ]
  },
  {
   "cell_type": "markdown",
   "metadata": {},
   "source": [
    "### 讀入資料並判斷缺數值、非數字"
   ]
  },
  {
   "cell_type": "code",
   "execution_count": 59,
   "metadata": {},
   "outputs": [],
   "source": [
    "org_data = pd.read_csv('HW3_hr-analytics.csv')"
   ]
  },
  {
   "cell_type": "markdown",
   "metadata": {},
   "source": [
    " ### 前處理"
   ]
  },
  {
   "cell_type": "code",
   "execution_count": 60,
   "metadata": {},
   "outputs": [],
   "source": [
    "OH_data = org_data.copy()\n",
    "\n",
    "lin_i = [0,1,3]# 非離散型資料(col)\n",
    "\n",
    "for i,col in enumerate(OH_data.columns):\n",
    "    if i ==0:\n",
    "        std = MinMaxScaler()\n",
    "        matrix = np.array(OH_data[col])[:, np.newaxis]\n",
    "        std.fit(matrix)\n",
    "        matrix = std.transform(matrix)\n",
    "\n",
    "    elif i  in  lin_i:\n",
    "        OH_temp = np.array(OH_data[col])[:, np.newaxis]\n",
    "        std = MinMaxScaler()\n",
    "        std.fit(OH_temp)\n",
    "        OH_temp = std.transform(OH_temp)\n",
    "        matrix = np.hstack((matrix,OH_temp))\n",
    "    #切割目標\n",
    "    elif col == 'left':\n",
    "        OH_temp = np.array(OH_data[col])\n",
    "        target = OH_temp[:,np.newaxis]\n",
    "    else:\n",
    "        #OnehotEncoding       \n",
    "        OH = OneHotEncoder()\n",
    "        OH_temp = np.array(OH_data[col])\n",
    "        OH_temp = OH_temp[:,np.newaxis]\n",
    "        OH.fit(OH_temp)\n",
    "        OH_temp = OH.transform(OH_temp).toarray()\n",
    "        matrix = np.hstack((matrix,OH_temp))\n"
   ]
  },
  {
   "cell_type": "markdown",
   "metadata": {},
   "source": [
    "### 切割資料"
   ]
  },
  {
   "cell_type": "code",
   "execution_count": 61,
   "metadata": {},
   "outputs": [],
   "source": [
    "train_data, test_data ,train_target , test_target = train_test_split(matrix,target,test_size=0.3)  "
   ]
  },
  {
   "cell_type": "markdown",
   "metadata": {},
   "source": [
    " ### 決策樹模型模型"
   ]
  },
  {
   "cell_type": "code",
   "execution_count": 62,
   "metadata": {},
   "outputs": [
    {
     "name": "stdout",
     "output_type": "stream",
     "text": [
      "accuracy : 4398/4500  97.73%\n"
     ]
    }
   ],
   "source": [
    "dec = DecisionTreeClassifier()\n",
    "dec.fit(train_data, train_target.ravel())\n",
    "test_pred = dec.predict(test_data)\n",
    "\n",
    "corr = np.sum(np.array(test_pred)[:, np.newaxis] == test_target)\n",
    "length = len(test_data)\n",
    "score = dec.score(test_data, test_target)*100\n",
    "\n",
    "#評分\n",
    "print(f'accuracy : {corr}/{length}  {score:.2f}%')\n"
   ]
  },
  {
   "cell_type": "markdown",
   "metadata": {},
   "source": [
    "### 神經網絡模型"
   ]
  },
  {
   "cell_type": "code",
   "execution_count": 63,
   "metadata": {},
   "outputs": [
    {
     "name": "stdout",
     "output_type": "stream",
     "text": [
      "accuracy : 4346/4500  97.73%\n"
     ]
    }
   ],
   "source": [
    "mlp = MLPClassifier(max_iter=3000)\n",
    "mlp.fit(train_data,train_target.ravel())\n",
    "test_pred = mlp.predict(test_data)\n",
    "\n",
    "corr = np.sum(np.array(test_pred)[:, np.newaxis] == test_target)\n",
    "length = len(test_data)\n",
    "score = dec.score(test_data, test_target)*100\n",
    "\n",
    "#評分\n",
    "print(f'accuracy : {corr}/{length}  {score:.2f}%')\n"
   ]
  },
  {
   "cell_type": "markdown",
   "metadata": {},
   "source": [
    "### 邏輯迴歸模型比較"
   ]
  },
  {
   "cell_type": "code",
   "execution_count": 52,
   "metadata": {},
   "outputs": [
    {
     "name": "stdout",
     "output_type": "stream",
     "text": [
      "accuracy : 4048/4500  89.96%\n"
     ]
    }
   ],
   "source": [
    "log = LogisticRegression(max_iter=1000)\n",
    "log.fit(train_data, train_target.ravel())\n",
    "test_pred = log.predict(test_data)\n",
    "\n",
    "corr = np.sum(np.array(test_pred)[:, np.newaxis] == test_target)\n",
    "length = len(test_data)\n",
    "score = log.score(test_data, test_target)*100\n",
    "\n",
    "#評分\n",
    "print(f'accuracy : {corr}/{length}  {score:.2f}%')\n"
   ]
  },
  {
   "cell_type": "markdown",
   "metadata": {},
   "source": [
    " #### 發現邏輯迴歸之準確率較低，因為邏輯迴歸是以一線性函數線進行分類判斷，決策樹則以各節點對應目標值的最優解判定，故在分類上決策樹會比羅輯迴歸更準確"
   ]
  }
 ],
 "metadata": {
  "kernelspec": {
   "display_name": "Python 3.10.3 64-bit",
   "language": "python",
   "name": "python3"
  },
  "language_info": {
   "codemirror_mode": {
    "name": "ipython",
    "version": 3
   },
   "file_extension": ".py",
   "mimetype": "text/x-python",
   "name": "python",
   "nbconvert_exporter": "python",
   "pygments_lexer": "ipython3",
   "version": "3.10.3"
  },
  "orig_nbformat": 4,
  "vscode": {
   "interpreter": {
    "hash": "afb734500600fd355917ca529030176ea0ca205570884b88f2f6f7d791fd3fbe"
   }
  }
 },
 "nbformat": 4,
 "nbformat_minor": 2
}
