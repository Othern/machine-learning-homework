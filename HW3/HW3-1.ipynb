{
 "cells": [
  {
   "cell_type": "code",
   "execution_count": 1,
   "metadata": {},
   "outputs": [],
   "source": [
    "import pandas as pd\n",
    "import numpy as np\n",
    "import sklearn\n",
    "from sklearn.linear_model import LogisticRegression\n",
    "from sklearn.preprocessing import LabelEncoder\n",
    "from sklearn.preprocessing import OneHotEncoder\n",
    "from sklearn.preprocessing import StandardScaler\n",
    "from sklearn.preprocessing import MinMaxScaler\n",
    "from sklearn.cluster import KMeans\n",
    "from sklearn.model_selection import train_test_split\n",
    "from sklearn.metrics import mean_squared_error"
   ]
  },
  {
   "cell_type": "markdown",
   "metadata": {},
   "source": [
    "#讀入資料並判斷缺數值、非數字"
   ]
  },
  {
   "cell_type": "code",
   "execution_count": 2,
   "metadata": {},
   "outputs": [],
   "source": [
    "org_data = pd.read_csv('HW3_hr-analytics.csv')"
   ]
  },
  {
   "cell_type": "markdown",
   "metadata": {},
   "source": [
    "#前處理"
   ]
  },
  {
   "cell_type": "code",
   "execution_count": 3,
   "metadata": {},
   "outputs": [],
   "source": [
    "OH_data = org_data.copy()\n",
    "\n",
    "lin_i = [0,1,3]# 非離散型資料(col)\n",
    "\n",
    "#去除OUTLIER\n",
    "del_index = set()\n",
    "for col in org_data.columns:\n",
    "    \n",
    "    if col in ['satisfaction_level','last_evaluation,average_montly_hours','time_spend_company']: \n",
    "        q1 = OH_data.describe()[col]['25%']\n",
    "        q3 = OH_data.describe()[col]['75%']\n",
    "        max_outlier = OH_data.describe()[col]['50%'] + (q3-q1)*3\n",
    "        min_outlier = OH_data.describe()[col]['50%'] - (q3-q1)*3\n",
    "        del_index = del_index.union(OH_data[(OH_data[col]>max_outlier) | (OH_data[col]<min_outlier)].index)\n",
    "OH_data.drop(del_index,inplace=True,axis=0)\n",
    "OH_data.reset_index(inplace=True,drop=True)\n",
    "\n",
    "\n",
    "for i,col in enumerate(OH_data.columns):\n",
    "    \n",
    "    #將非離散型性資料等距離散\n",
    "    if i == 0:\n",
    "        OH_data[col] = pd.qcut(OH_data[col].rank(method='first'),4,labels=[1,2,3,4])\n",
    "        matrix =np.array(OH_data[col])\n",
    "        matrix = matrix[:, np.newaxis]\n",
    "        continue\n",
    "    \n",
    "    #將非離散型性資料等距離散\n",
    "    elif i in lin_i:\n",
    "       OH_data[col] = pd.qcut(OH_data[col].rank(method='first'),4,labels=[1,2,3,4])\n",
    "       \n",
    "    #切割目標\n",
    "    elif col == 'left':\n",
    "        OH_temp = np.array(OH_data[col])\n",
    "        target = OH_temp[:,np.newaxis]\n",
    "        \n",
    "    #OnehotEncoding       \n",
    "    OH = OneHotEncoder()\n",
    "    OH_temp = np.array(OH_data[col])\n",
    "    OH_temp = OH_temp[:,np.newaxis]\n",
    "    OH.fit(OH_temp)\n",
    "    OH_temp = OH.transform(OH_temp).toarray()\n",
    "    matrix = np.hstack((matrix,OH_temp))\n",
    "\n",
    "#cut data     \n",
    "train_data, test_data ,train_target , test_target = train_test_split(matrix,target,test_size=0.3,random_state=2019)  "
   ]
  },
  {
   "cell_type": "markdown",
   "metadata": {},
   "source": [
    "#模型訓練"
   ]
  },
  {
   "cell_type": "code",
   "execution_count": 8,
   "metadata": {},
   "outputs": [
    {
     "name": "stdout",
     "output_type": "stream",
     "text": [
      "accuracy : 4331/4331  100.00\n"
     ]
    }
   ],
   "source": [
    "log = LogisticRegression()\n",
    "log.fit(train_data,train_target.ravel())\n",
    "test_pred = log.predict(test_data)\n",
    "\n",
    "corr = np.sum(np.array(test_pred)[:,np.newaxis] == test_target)\n",
    "length = len(test_data)\n",
    "score = log.score(test_data, test_target)*100\n",
    "\n",
    "#評分\n",
    "print(f'accuracy : {corr}/{length}  {score:.2f}%')"
   ]
  },
  {
   "cell_type": "markdown",
   "metadata": {},
   "source": [
    "總結:因為Logistic Regression 的特性，因此需要將資料離散化可以更好收斂，線性資料以等距切成4分，\n",
    "再將全部資料使用Onehotencoding編碼進行訓練"
   ]
  }
 ],
 "metadata": {
  "kernelspec": {
   "display_name": "Python 3.10.3 ('venv': venv)",
   "language": "python",
   "name": "python3"
  },
  "language_info": {
   "codemirror_mode": {
    "name": "ipython",
    "version": 3
   },
   "file_extension": ".py",
   "mimetype": "text/x-python",
   "name": "python",
   "nbconvert_exporter": "python",
   "pygments_lexer": "ipython3",
   "version": "3.10.3"
  },
  "orig_nbformat": 4,
  "vscode": {
   "interpreter": {
    "hash": "56c02208c97e459b4232adfad485d8c58c59fae807016af45f519823b46905e7"
   }
  }
 },
 "nbformat": 4,
 "nbformat_minor": 2
}
